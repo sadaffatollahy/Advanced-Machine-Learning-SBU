{
  "nbformat": 4,
  "nbformat_minor": 0,
  "metadata": {
    "colab": {
      "provenance": [],
      "gpuType": "T4"
    },
    "kernelspec": {
      "name": "python3",
      "display_name": "Python 3"
    },
    "language_info": {
      "name": "python"
    },
    "accelerator": "GPU"
  },
  "cells": [
    {
      "cell_type": "markdown",
      "source": [
        "**Import libraries**"
      ],
      "metadata": {
        "id": "RBx2bbib2CvB"
      }
    },
    {
      "cell_type": "code",
      "execution_count": null,
      "metadata": {
        "id": "HtUomLNmI90r"
      },
      "outputs": [],
      "source": [
        "import numpy as np\n",
        "import torch\n",
        "import torch.nn as nn\n",
        "from torchvision import datasets\n",
        "from torchvision import transforms\n",
        "from torch.utils.data.sampler import SubsetRandomSampler\n",
        "\n",
        "device = torch.device('cuda' if torch.cuda.is_available() else 'cpu')"
      ]
    },
    {
      "cell_type": "markdown",
      "source": [
        "Data loader and Dataset"
      ],
      "metadata": {
        "id": "UIKu9_0E8qAj"
      }
    },
    {
      "cell_type": "code",
      "source": [
        "def get_train_valid_loader(data_dir, batch_size, augment, random_seed, valid_size = 0.1, shuffle = True):\n",
        "  \"\"\"creates and returns training and validation data loaders for the CIFAR-10 dataset.\n",
        "    input parameters:\n",
        "      data_dir: The directory where the CIFAR-10 dataset is stored or will be downloaded.\n",
        "      batch_size: The batch size to use for the data loaders.\n",
        "      augment: A boolean flag indicating whether data augmentation should be applied to the training dataset.\n",
        "      random_seed: The random seed used for shuffling the dataset indices.\n",
        "      valid_size: The proportion of the training dataset to use for validation (default is 0.1, representing 10%).\n",
        "      shuffle: A boolean flag indicating whether to shuffle the dataset indices before splitting into training and validation sets.\n",
        "\n",
        "  \"\"\"\n",
        "  #define the normalization transformation using the mean and standard deviation values.\n",
        "  normalize = transforms.Normalize(mean = [0.4914,0.4822,0.4465], std = [0.2023,0.1994,0.2010])\n",
        "\n",
        "  valid_transform = transforms.Compose([transforms.Resize((227,227)),transforms.ToTensor(),normalize])  #resizes the images to 227x227 pixels,\n",
        "                                                                                                        #converts them to tensors,\n",
        "                                                                                                        #and applies the normalization transformation.\n",
        "  #checks data augmentation\n",
        "  if augment:\n",
        "    train_transform = transforms.Compose([transforms.RandomCrop(32, padding=4), #random cropping,\n",
        "                                          transforms.RandomHorizontalFlip(),    # random horizontal flipping,\n",
        "                                          transforms.ToTensor(),                #converting images to tensors,\n",
        "                                          normalize])                           #and applying the normalization transformation\n",
        "  else:\n",
        "    train_transform = transforms.Compose([transforms.Resize((227,227)),\n",
        "                                            transforms.ToTensor(),\n",
        "                                            normalize])\n",
        "  train_dataset = datasets.CIFAR10(root = data_dir, train = True, download=True, transform=train_transform)\n",
        "  valid_dataset = datasets.CIFAR10(root = data_dir, train = True, download=True, transform=valid_transform)\n",
        "\n",
        "  num_train = len(train_dataset)\n",
        "  indices = list(range(num_train)) #create a list of indices for shuffling\n",
        "  split = int(np.floor(valid_size * num_train))#determine the split point for creating the validation dataset\n",
        "\n",
        "  #checks shuffling\n",
        "  if shuffle:\n",
        "    np.random.seed(random_seed)\n",
        "    np.random.shuffle(indices)\n",
        "\n",
        "  train_idx, valid_idx = indices[split:], indices[:split]\n",
        "  #create instances of SubsetRandomSampler using the training and validation indices\n",
        "  train_sampler = SubsetRandomSampler(train_idx)\n",
        "  valid_sampler = SubsetRandomSampler(valid_idx)\n",
        "\n",
        "  #data loaders for the training and validation datasets using the respective samplers\n",
        "  train_loader = torch.utils.data.DataLoader(train_dataset, batch_size=batch_size, sampler=train_sampler)\n",
        "  valid_loader = torch.utils.data.DataLoader(valid_dataset, batch_size=batch_size, sampler=valid_sampler)\n",
        "\n",
        "  return (train_loader, valid_loader)\n",
        "\n",
        "def get_test_loader(data_dir, batch_size, shuffle=True):\n",
        "  normalize = transforms.Normalize(mean = [0.485,0.456,0.406], std = [0.229,0.224,0.225])\n",
        "  transform = transforms.Compose([transforms.Resize((227,227)),transforms.ToTensor(),normalize])\n",
        "\n",
        "  dataset = datasets.CIFAR10(root = data_dir, train = False, download=True, transform=transform)\n",
        "\n",
        "  data_loader = torch.utils.data.DataLoader(dataset, batch_size=batch_size, shuffle=shuffle)\n",
        "\n",
        "  return data_loader\n",
        "\n",
        "train_loader, valid_loader = get_train_valid_loader(data_dir='./data', batch_size=64, augment=False, random_seed=1)\n",
        "test_loader = get_test_loader(data_dir='./data', batch_size=64)"
      ],
      "metadata": {
        "id": "0QKJ4MCgJtRI",
        "colab": {
          "base_uri": "https://localhost:8080/"
        },
        "outputId": "397e81e2-daa3-41b7-eee9-f40c7a234982"
      },
      "execution_count": null,
      "outputs": [
        {
          "output_type": "stream",
          "name": "stdout",
          "text": [
            "Files already downloaded and verified\n",
            "Files already downloaded and verified\n",
            "Files already downloaded and verified\n"
          ]
        }
      ]
    },
    {
      "cell_type": "markdown",
      "source": [
        "Architecture"
      ],
      "metadata": {
        "id": "7wpoGxht8nfd"
      }
    },
    {
      "cell_type": "code",
      "source": [
        "class GoogLeNet(nn.Module):\n",
        "    def __init__(self,inChannel,numClass=10):\n",
        "        super(GoogLeNet, self).__init__()\n",
        "        self.ConvLayer1= nn.Sequential(nn.Conv2d(3,64,kernel_size=(7,7),stride=(2,2),padding= (3,3)), #takes input with 3 channels and outputs feature maps with 64 channels.\n",
        "            nn.MaxPool2d(kernel_size=3,stride=2,padding=1),\n",
        "            nn.Conv2d(64,192,kernel_size=(3,3),stride=(1,1),padding=(1,1)), #takes the 64-channel input and outputs feature maps with 192 channels.\n",
        "            nn.MaxPool2d(kernel_size=3,stride=2,padding=1))\n",
        "\n",
        "        #This sequential module consists of two inception blocks and a max pooling layer\n",
        "        self.ConvLayer2= nn.Sequential(\n",
        "            InceptionBlock(192, 64, 96, 128, 16, 32, 32),\n",
        "            InceptionBlock(256, 128, 128, 192, 32, 96, 64),\n",
        "            nn.MaxPool2d(kernel_size=3, stride=2, padding=1),\n",
        "        )\n",
        "        #This sequential module consists of multiple inception blocks and a max pooling layer.\n",
        "        self.ConvLayer3= nn.Sequential(\n",
        "            InceptionBlock(480, 192, 96, 208, 16, 48, 64),\n",
        "            InceptionBlock(512, 160, 112, 224, 24, 64, 64),\n",
        "            InceptionBlock(512, 128, 128, 256, 24, 64, 64),\n",
        "            InceptionBlock(512, 112, 144, 288, 32, 64, 64),\n",
        "            InceptionBlock(528, 256, 160, 320, 32, 128, 128),\n",
        "            nn.MaxPool2d(kernel_size=3, stride=2, padding=1),\n",
        "        )\n",
        "        #This sequential module consists of multiple inception blocks and an average pooling layer.\n",
        "        self.ConvLayer4= nn.Sequential(\n",
        "            InceptionBlock(832,256,160,320,32,128,128),\n",
        "            InceptionBlock(832, 384, 192, 384, 48, 128, 128),\n",
        "            nn.AvgPool2d(kernel_size=7,stride= 1),\n",
        "        )\n",
        "        #This sequential module consists of a dropout layer followed by a fully connected layer.\n",
        "        self.fc= nn.Sequential(\n",
        "            nn.Dropout(0.4),\n",
        "            nn.Linear(1024,numClass)\n",
        "        )\n",
        "    def forward(self,x):\n",
        "        x= self.ConvLayer1(x)\n",
        "        #print(x.size())\n",
        "        x = self.ConvLayer2(x)\n",
        "        #print(x.size())\n",
        "        x = self.ConvLayer3(x)\n",
        "        #print(x.size())\n",
        "        x = self.ConvLayer4(x)\n",
        "        #print(x.size())\n",
        "        x= x.reshape(x.shape[0],-1)\n",
        "        #print(x.size())\n",
        "        return self.fc(x)\n",
        "\n",
        "class InceptionBlock(nn.Module):\n",
        "    def __init__(self,inChannel,onexone,reducer3x3,threexthree,reducer5x5,fivexfive,pooler):\n",
        "        super(InceptionBlock,self).__init__()\n",
        "        self.oneIncetion = ConvBlock(inChannel,onexone,kernel_size=1) #oneIncetion: This variable represents a 1x1 convolutional operation applied to the input tensor.\n",
        "\n",
        "        self.threeInception = nn.Sequential(\n",
        "            ConvBlock(inChannel,reducer3x3,kernel_size=1),\n",
        "            ConvBlock(reducer3x3,threexthree,kernel_size=(3,3),padding=1) #This variable represents a sequence of operations,\n",
        "                                                                          #including a 1x1 convolutional operation followed by a 3x3 convolutional operation with padding.\n",
        "        )\n",
        "        self.fiveInception= nn.Sequential(\n",
        "            ConvBlock(inChannel,reducer5x5,kernel_size=1),\n",
        "            ConvBlock(reducer5x5,fivexfive,kernel_size=5,padding=2)#This variable represents a sequence of operations,\n",
        "                                                                    #including a 1x1 convolutional operation followed by a 5x5 convolutional operation with padding.\n",
        "        )\n",
        "        self.poolInception= nn.Sequential(\n",
        "            nn.MaxPool2d(kernel_size=3,stride=1,padding=1),\n",
        "            ConvBlock(inChannel,pooler,kernel_size=1) #This variable represents a sequence of operations,\n",
        "                                                      #including max pooling with a kernel size of 3x3 and a stride of 1, followed by a 1x1 convolutional operation.\n",
        "        )\n",
        "    def forward(self,x):\n",
        "        return torch.cat([self.oneIncetion(x),self.threeInception(x),self.fiveInception(x),self.poolInception(x)],1)\n",
        "\n",
        "\n",
        "class ConvBlock(nn.Module):\n",
        "    def __init__(self,inChannel,outChannel,**kwargs):\n",
        "        super(ConvBlock,self).__init__()\n",
        "        self.conv= nn.Conv2d(inChannel,outChannel,**kwargs)\n",
        "        self.BatchNorm= nn.BatchNorm2d(outChannel)\n",
        "        self.relu = nn.ReLU()\n",
        "    def forward(self,x):\n",
        "        return self.relu(self.BatchNorm(self.conv(x)))\n",
        "\n"
      ],
      "metadata": {
        "id": "TDxxCiFjRqTh"
      },
      "execution_count": 118,
      "outputs": []
    },
    {
      "cell_type": "code",
      "source": [
        "num_classes = 10 # the number of classes in CIFAR10\n",
        "num_epochs = 2 # the number of times the entire training dataset will be passed through the model during training.\n",
        "batch_size = 16 #the number of samples in each mini-batch used for training.\n",
        "learning_rate = 0.005 #learning rate used for updating the model's parameters during training.\n",
        "\n",
        "model = GoogLeNet(num_classes).to(device) #creates an instance of the GoogLeNet model with num_classes as the number of output classes.\n",
        "                                          #The model is then moved to the device (presumably GPU) for computation.\n",
        "\n",
        "\n",
        "# Loss and optimizer\n",
        "criterion = nn.CrossEntropyLoss()\n",
        "optimizer = torch.optim.SGD(model.parameters(), lr=learning_rate, weight_decay = 0.005, momentum = 0.9)\n",
        "\n",
        "\n",
        "# Train the model\n",
        "total_step = len(train_loader) #total number of iterations required to cover the entire training dataset during one epoch.\n",
        "                              #It uses the length of the train_loader, which is the data loader created for the training dataset."
      ],
      "metadata": {
        "id": "6WUwKgmhSLMY"
      },
      "execution_count": 119,
      "outputs": []
    },
    {
      "cell_type": "code",
      "source": [
        "total_step = len(train_loader)\n",
        "\n",
        "for epoch in range(num_epochs):  #iterates over the specified number of epochs.\n",
        "    for i, (images, labels) in enumerate(train_loader):# iterates over the mini-batches of the training dataset. It retrieves images and labels from the train_loader.\n",
        "        # Move tensors to the configured device\n",
        "        images = images.to(device)\n",
        "        labels = labels.to(device)\n",
        "\n",
        "        # Forward pass\n",
        "        outputs = model(images)\n",
        "        loss = criterion(outputs, labels)\n",
        "\n",
        "        # Backward and optimize\n",
        "        optimizer.zero_grad()\n",
        "        loss.backward()\n",
        "        optimizer.step()\n",
        "\n",
        "    print ('Epoch [{}/{}], Step [{}/{}], Loss: {:.4f}'\n",
        "                   .format(epoch+1, num_epochs, i+1, total_step, loss.item()))\n",
        "\n",
        "    # Validation\n",
        "    with torch.no_grad():\n",
        "        correct = 0\n",
        "        total = 0\n",
        "        for images, labels in valid_loader:\n",
        "            images = images.to(device)\n",
        "            labels = labels.to(device)\n",
        "            outputs = model(images)\n",
        "            _, predicted = torch.max(outputs.data, 1)\n",
        "            total += labels.size(0)\n",
        "            correct += (predicted == labels).sum().item()\n",
        "            del images, labels, outputs\n",
        "\n",
        "        print('Accuracy of the network on the {} validation images: {} %'.format(5000, 100 * correct / total))"
      ],
      "metadata": {
        "id": "0FX4j4rTTTNZ",
        "colab": {
          "base_uri": "https://localhost:8080/"
        },
        "outputId": "4193f4f2-b85b-4799-e3ec-7ac915e882f0"
      },
      "execution_count": 120,
      "outputs": [
        {
          "output_type": "stream",
          "name": "stdout",
          "text": [
            "Epoch [1/2], Step [704/704], Loss: 2.2238\n",
            "Accuracy of the network on the 5000 validation images: 60.84 %\n",
            "Epoch [2/2], Step [704/704], Loss: 1.0121\n",
            "Accuracy of the network on the 5000 validation images: 73.66 %\n"
          ]
        }
      ]
    },
    {
      "cell_type": "code",
      "source": [
        "with torch.no_grad(): # disable gradient computation\n",
        "    correct = 0\n",
        "    total = 0\n",
        "    for images, labels in test_loader:\n",
        "      images = images.to(device)\n",
        "      labels = labels.to(device)\n",
        "      outputs = model(images)\n",
        "      _, predicted = torch.max(outputs.data, 1)\n",
        "      total+=labels.size(0)\n",
        "      correct += (predicted == labels).sum().item()\n",
        "      del images, labels, outputs\n",
        "\n",
        "    print('Accuracy of the network on {} test images:{} %'.format(10000,100*correct/total))\n",
        "\n"
      ],
      "metadata": {
        "id": "H2Cw6uHHWUSO",
        "colab": {
          "base_uri": "https://localhost:8080/"
        },
        "outputId": "f05edd91-dc25-48ba-c00b-bfc634c2161d"
      },
      "execution_count": 121,
      "outputs": [
        {
          "output_type": "stream",
          "name": "stdout",
          "text": [
            "Accuracy of the network on 10000 test images:73.75 %\n"
          ]
        }
      ]
    },
    {
      "cell_type": "code",
      "source": [],
      "metadata": {
        "id": "FQI-h33IkTK0"
      },
      "execution_count": null,
      "outputs": []
    }
  ]
}