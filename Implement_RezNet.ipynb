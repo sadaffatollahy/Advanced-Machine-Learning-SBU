{
  "nbformat": 4,
  "nbformat_minor": 0,
  "metadata": {
    "colab": {
      "provenance": [],
      "gpuType": "T4"
    },
    "kernelspec": {
      "name": "python3",
      "display_name": "Python 3"
    },
    "language_info": {
      "name": "python"
    },
    "accelerator": "GPU"
  },
  "cells": [
    {
      "cell_type": "markdown",
      "source": [
        "Import libraries"
      ],
      "metadata": {
        "id": "oEGc13_EAO9J"
      }
    },
    {
      "cell_type": "code",
      "execution_count": 1,
      "metadata": {
        "id": "yr8RIIlq-q1G"
      },
      "outputs": [],
      "source": [
        "import numpy as np\n",
        "import torch\n",
        "import torch.nn as nn\n",
        "from torchvision import datasets\n",
        "from torchvision import transforms\n",
        "from torch.utils.data.sampler import SubsetRandomSampler\n",
        "\n",
        "device = torch.device('cuda' if torch.cuda.is_available() else 'cpu')"
      ]
    },
    {
      "cell_type": "markdown",
      "source": [
        "DataLoader and Dataset"
      ],
      "metadata": {
        "id": "M44iOjP6PSkO"
      }
    },
    {
      "cell_type": "code",
      "source": [
        "def data_loader(data_dir,batch_size,random_seed=42,valid_size=0.1,shuffle=True,test=False):\n",
        "    \"\"\"creates and returns training and validation data loaders for the CIFAR-10 dataset.\n",
        "    input parameters:\n",
        "      data_dir: The directory where the CIFAR-10 dataset is stored or will be downloaded.\n",
        "      batch_size: The batch size to use for the data loaders.\n",
        "      random_seed: The random seed used for shuffling the dataset indices.\n",
        "      valid_size: The proportion of the training dataset to use for validation (default is 0.1, representing 10%).\n",
        "      shuffle: A boolean flag indicating whether to shuffle the dataset indices before splitting into training and validation sets.\n",
        "\n",
        "  \"\"\"\n",
        "    #define the normalization transformation using the mean and standard deviation values.\n",
        "    normalize = transforms.Normalize(mean=[0.4914, 0.4822, 0.4465],std=[0.2023, 0.1994, 0.2010])\n",
        "\n",
        "    transform = transforms.Compose([transforms.Resize((224,224)),transforms.ToTensor(),normalize])\n",
        "\n",
        "    if test:\n",
        "        dataset = datasets.CIFAR10(root=data_dir, train=False,download=True, transform=transform)\n",
        "\n",
        "        data_loader = torch.utils.data.DataLoader(dataset, batch_size=batch_size, shuffle=shuffle)\n",
        "\n",
        "        return data_loader\n",
        "\n",
        "    # load the dataset\n",
        "    train_dataset = datasets.CIFAR10(root=data_dir, train=True,download=True, transform=transform)\n",
        "\n",
        "    valid_dataset = datasets.CIFAR10(root=data_dir, train=True,download=True, transform=transform)\n",
        "\n",
        "    num_train = len(train_dataset)\n",
        "    indices = list(range(num_train))#create a list of indices for shuffling\n",
        "    split = int(np.floor(valid_size * num_train))#determine the split point for creating the validation dataset\n",
        "\n",
        "    if shuffle:   #checks shuffling\n",
        "        np.random.seed(42)\n",
        "        np.random.shuffle(indices)\n",
        "\n",
        "    train_idx, valid_idx = indices[split:], indices[:split]\n",
        "    #create instances of SubsetRandomSampler using the training and validation indices\n",
        "    train_sampler = SubsetRandomSampler(train_idx)\n",
        "    valid_sampler = SubsetRandomSampler(valid_idx)\n",
        "\n",
        "    #data loaders for the training and validation datasets using the respective samplers\n",
        "    train_loader = torch.utils.data.DataLoader(train_dataset, batch_size=batch_size, sampler=train_sampler)\n",
        "    valid_loader = torch.utils.data.DataLoader(valid_dataset, batch_size=batch_size, sampler=valid_sampler)\n",
        "\n",
        "    return (train_loader, valid_loader)\n",
        "\n",
        "train_loader, valid_loader = data_loader(data_dir='./data',batch_size=64)\n",
        "test_loader = data_loader(data_dir='./data',batch_size=64,test=True)"
      ],
      "metadata": {
        "id": "o43OHDL7fEjo",
        "colab": {
          "base_uri": "https://localhost:8080/"
        },
        "outputId": "81a4c43b-eb9f-482c-914e-5decd0c09baf"
      },
      "execution_count": 4,
      "outputs": [
        {
          "output_type": "stream",
          "name": "stdout",
          "text": [
            "Downloading https://www.cs.toronto.edu/~kriz/cifar-10-python.tar.gz to ./data/cifar-10-python.tar.gz\n"
          ]
        },
        {
          "output_type": "stream",
          "name": "stderr",
          "text": [
            "100%|██████████| 170498071/170498071 [00:12<00:00, 13171678.88it/s]\n"
          ]
        },
        {
          "output_type": "stream",
          "name": "stdout",
          "text": [
            "Extracting ./data/cifar-10-python.tar.gz to ./data\n",
            "Files already downloaded and verified\n",
            "Files already downloaded and verified\n"
          ]
        }
      ]
    },
    {
      "cell_type": "markdown",
      "source": [
        "Architecture"
      ],
      "metadata": {
        "id": "CxsD7uscPNrY"
      }
    },
    {
      "cell_type": "code",
      "source": [
        "class ResidualBlock(nn.Module): #the ResidualBlock class implements a residual block, which consists of two convolutional layers with batch normalization and a residual connection.\n",
        "                                #This block is used to create deeper residual networks that can better capture complex patterns in images.\n",
        "\n",
        "    def __init__(self, in_channels, out_channels, stride = 1, downsample = None):\n",
        "        super(ResidualBlock, self).__init__()\n",
        "        self.conv1 = nn.Sequential(nn.Conv2d(in_channels, out_channels, kernel_size = 3, stride = stride, padding = 1),\n",
        "                        nn.BatchNorm2d(out_channels),\n",
        "                        nn.ReLU())   #First convolutional layer followed by batch normalization and ReLU activation.\n",
        "        self.conv2 = nn.Sequential(nn.Conv2d(out_channels, out_channels, kernel_size = 3, stride = 1, padding = 1),\n",
        "                        nn.BatchNorm2d(out_channels)) #Second convolutional layer followed by batch normalization.\n",
        "        self.downsample = downsample #Downsample function to be applied on the input if needed.\n",
        "        self.relu = nn.ReLU()\n",
        "        self.out_channels = out_channels\n",
        "\n",
        "    def forward(self, x):\n",
        "        residual = x\n",
        "        out = self.conv1(x)\n",
        "        out = self.conv2(out)\n",
        "        if self.downsample:\n",
        "            residual = self.downsample(x)\n",
        "        out += residual\n",
        "        out = self.relu(out)\n",
        "        return out\n",
        "\n",
        "class ResNet(nn.Module):\n",
        "    def __init__(self, block, layers, num_classes = 10):\n",
        "        super(ResNet, self).__init__()\n",
        "        self.inplanes = 64 #Number of input channels for the first convolutional layer.\n",
        "        self.conv1 = nn.Sequential(nn.Conv2d(3, 64, kernel_size = 7, stride = 2, padding = 3),\n",
        "                        nn.BatchNorm2d(64),\n",
        "                        nn.ReLU()) #First convolutional layer followed by batch normalization and ReLU activation.\n",
        "        self.maxpool = nn.MaxPool2d(kernel_size = 3, stride = 2, padding = 1)\n",
        "        self.layer0 = self._make_layer(block, 64, layers[0], stride = 1)\n",
        "        self.layer1 = self._make_layer(block, 128, layers[1], stride = 2)\n",
        "        self.layer2 = self._make_layer(block, 256, layers[2], stride = 2)\n",
        "        self.layer3 = self._make_layer(block, 512, layers[3], stride = 2)\n",
        "        self.avgpool = nn.AvgPool2d(7, stride=1)\n",
        "        self.fc = nn.Linear(512, num_classes)\n",
        "\n",
        "    def _make_layer(self, block, planes, blocks, stride=1):\n",
        "        \"\"\"helper function used in the ResNet class to create a layer with multiple residual blocks.\n",
        "\n",
        "\n",
        "        block: The residual block class used in the layer.\n",
        "        planes: Number of output channels for the residual blocks in the layer.\n",
        "        blocks: Number of residual blocks in the layer.\n",
        "        stride: Stride value for the first residual block in the layer. Default is 1.\n",
        "        \"\"\"\n",
        "        downsample = None\n",
        "        if stride != 1 or self.inplanes != planes:\n",
        "\n",
        "            downsample = nn.Sequential(nn.Conv2d(self.inplanes, planes, kernel_size=1, stride=stride),\n",
        "                         nn.BatchNorm2d(planes))\n",
        "\n",
        "        layers = []\n",
        "        layers.append(block(self.inplanes, planes, stride, downsample)) #adds the first residual block to the layers list.\n",
        "                                                                        #It uses the provided block class and passes the appropriate arguments,\n",
        "                                                                        #including the downsample module if downsampling is required.\n",
        "        self.inplanes = planes\n",
        "        for i in range(1, blocks):\n",
        "            layers.append(block(self.inplanes, planes))\n",
        "\n",
        "        return nn.Sequential(*layers)\n",
        "\n",
        "\n",
        "    def forward(self, x):\n",
        "        x = self.conv1(x)\n",
        "        x = self.maxpool(x)\n",
        "        x = self.layer0(x)\n",
        "        x = self.layer1(x)\n",
        "        x = self.layer2(x)\n",
        "        x = self.layer3(x)\n",
        "\n",
        "        x = self.avgpool(x)\n",
        "        x = x.view(x.size(0), -1)\n",
        "        x = self.fc(x)\n",
        "\n",
        "        return x"
      ],
      "metadata": {
        "id": "X5aqL-QKPHTQ"
      },
      "execution_count": 5,
      "outputs": []
    },
    {
      "cell_type": "code",
      "source": [
        "num_classes = 10\n",
        "num_epochs = 2\n",
        "batch_size = 16\n",
        "learning_rate = 0.01\n",
        "\n",
        "model = ResNet(ResidualBlock, [3, 4, 6, 3]).to(device)\n",
        "\n",
        "# Loss and optimizer\n",
        "criterion = nn.CrossEntropyLoss()\n",
        "optimizer = torch.optim.SGD(model.parameters(), lr=learning_rate, weight_decay = 0.001, momentum = 0.9)\n",
        "\n",
        "# Train the model\n",
        "total_step = len(train_loader)"
      ],
      "metadata": {
        "id": "afGihKE_Pobh"
      },
      "execution_count": 7,
      "outputs": []
    },
    {
      "cell_type": "code",
      "source": [
        "import gc\n",
        "total_step = len(train_loader)\n",
        "\n",
        "for epoch in range(num_epochs): #iterates over the specified number of epochs.\n",
        "    for i, (images, labels) in enumerate(train_loader):# iterates over the mini-batches of the training dataset. It retrieves images and labels from the train_loader.\n",
        "        # Move tensors to the configured device\n",
        "        images = images.to(device)\n",
        "        labels = labels.to(device)\n",
        "\n",
        "        # Forward pass\n",
        "        outputs = model(images)\n",
        "        loss = criterion(outputs, labels)\n",
        "\n",
        "        # Backward and optimize\n",
        "        optimizer.zero_grad()\n",
        "        loss.backward()\n",
        "        optimizer.step()\n",
        "        del images, labels, outputs\n",
        "        torch.cuda.empty_cache()\n",
        "        gc.collect()\n",
        "\n",
        "    print ('Epoch [{}/{}], Loss: {:.4f}'.format(epoch+1, num_epochs, loss.item()))\n",
        "\n",
        "    # Validation\n",
        "    with torch.no_grad():\n",
        "        correct = 0\n",
        "        total = 0\n",
        "        for images, labels in valid_loader:\n",
        "            images = images.to(device)\n",
        "            labels = labels.to(device)\n",
        "            outputs = model(images)\n",
        "            _, predicted = torch.max(outputs.data, 1)\n",
        "            total += labels.size(0)\n",
        "            correct += (predicted == labels).sum().item()\n",
        "            del images, labels, outputs\n",
        "\n",
        "        print('Accuracy of the network on the {} validation images: {} %'.format(5000, 100 * correct / total))"
      ],
      "metadata": {
        "colab": {
          "base_uri": "https://localhost:8080/"
        },
        "id": "L19LMeWlP_jJ",
        "outputId": "db691ae6-7a8b-4774-93b4-c3236769f316"
      },
      "execution_count": 8,
      "outputs": [
        {
          "output_type": "stream",
          "name": "stdout",
          "text": [
            "Epoch [1/2], Loss: 1.5059\n",
            "Accuracy of the network on the 5000 validation images: 59.92 %\n",
            "Epoch [2/2], Loss: 0.5057\n",
            "Accuracy of the network on the 5000 validation images: 73.84 %\n"
          ]
        }
      ]
    },
    {
      "cell_type": "code",
      "source": [
        "with torch.no_grad(): # disable gradient computation\n",
        "    correct = 0\n",
        "    total = 0\n",
        "    for images, labels in test_loader:\n",
        "      images = images.to(device)\n",
        "      labels = labels.to(device)\n",
        "      outputs = model(images)\n",
        "      _, predicted = torch.max(outputs.data, 1)\n",
        "      total+=labels.size(0)\n",
        "      correct += (predicted == labels).sum().item()\n",
        "      del images, labels, outputs\n",
        "\n",
        "    print('Accuracy of the network on {} test images:{} %'.format(10000,100*correct/total))\n",
        "\n"
      ],
      "metadata": {
        "id": "C5vwUqsoQFI0",
        "colab": {
          "base_uri": "https://localhost:8080/"
        },
        "outputId": "441664cf-3a09-404c-93f3-5f3c49be2c3c"
      },
      "execution_count": 9,
      "outputs": [
        {
          "output_type": "stream",
          "name": "stdout",
          "text": [
            "Accuracy of the network on 10000 test images:73.76 %\n"
          ]
        }
      ]
    },
    {
      "cell_type": "code",
      "source": [],
      "metadata": {
        "id": "wvdLUJfgDpcA"
      },
      "execution_count": null,
      "outputs": []
    }
  ]
}